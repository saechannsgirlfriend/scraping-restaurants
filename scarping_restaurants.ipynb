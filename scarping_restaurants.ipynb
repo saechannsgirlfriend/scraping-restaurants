{
 "cells": [
  {
   "cell_type": "code",
   "execution_count": 92,
   "id": "1979edf7",
   "metadata": {},
   "outputs": [
    {
     "name": "stdout",
     "output_type": "stream",
     "text": [
      "Collecting google\n",
      "  Downloading google-3.0.0-py2.py3-none-any.whl (45 kB)\n",
      "\u001b[2K     \u001b[90m━━━━━━━━━━━━━━━━━━━━━━━━━━━━━━━━━━━━━━━━\u001b[0m \u001b[32m45.3/45.3 kB\u001b[0m \u001b[31m2.7 MB/s\u001b[0m eta \u001b[36m0:00:00\u001b[0m\n",
      "\u001b[?25hRequirement already satisfied: beautifulsoup4 in /Users/nuomihan/opt/anaconda3/lib/python3.9/site-packages (from google) (4.11.1)\n",
      "Requirement already satisfied: soupsieve>1.2 in /Users/nuomihan/opt/anaconda3/lib/python3.9/site-packages (from beautifulsoup4->google) (2.3.2.post1)\n",
      "Installing collected packages: google\n",
      "Successfully installed google-3.0.0\n",
      "Note: you may need to restart the kernel to use updated packages.\n"
     ]
    }
   ],
   "source": [
    "# %pip install google"
   ]
  },
  {
   "cell_type": "code",
   "execution_count": 1,
   "id": "96e5bd7e",
   "metadata": {},
   "outputs": [],
   "source": [
    "import googlemaps\n",
    "from datetime import datetime"
   ]
  },
  {
   "cell_type": "code",
   "execution_count": 2,
   "id": "16aad64e",
   "metadata": {},
   "outputs": [
    {
     "name": "stderr",
     "output_type": "stream",
     "text": [
      "/Users/nuomihan/opt/anaconda3/lib/python3.9/site-packages/scipy/__init__.py:155: UserWarning: A NumPy version >=1.18.5 and <1.26.0 is required for this version of SciPy (detected version 1.26.1\n",
      "  warnings.warn(f\"A NumPy version >={np_minversion} and <{np_maxversion}\"\n"
     ]
    }
   ],
   "source": [
    "import pandas as pd\n",
    "import requests\n",
    "import json\n",
    "import scipy\n",
    "import requests\n",
    "import json\n",
    "import numpy as np"
   ]
  },
  {
   "cell_type": "code",
   "execution_count": 5,
   "id": "7d8e55c9",
   "metadata": {},
   "outputs": [],
   "source": [
    "api_key = ''"
   ]
  },
  {
   "cell_type": "code",
   "execution_count": 6,
   "id": "c3afada3",
   "metadata": {},
   "outputs": [],
   "source": [
    "gmaps = googlemaps.Client(key=api_key)"
   ]
  },
  {
   "cell_type": "code",
   "execution_count": 7,
   "id": "b4e39281",
   "metadata": {},
   "outputs": [],
   "source": [
    "#import data\n",
    "DE = pd.read_excel('data/zipcode/DE.xlsx', skiprows=4)\n",
    "MD = pd.read_excel('data/zipcode/MD.xlsx',skiprows=4)\n",
    "VA = pd.read_excel('data/zipcode/VA.xlsx',skiprows=4)\n",
    "WV = pd.read_excel('data/zipcode/WV.xlsx',skiprows=4)\n",
    "PA = pd.read_excel('data/zipcode/PA.xlsx',skiprows=4)\n",
    "DC = pd.read_csv('data/zipcode/DC.csv')"
   ]
  },
  {
   "cell_type": "code",
   "execution_count": 88,
   "id": "a736c743",
   "metadata": {},
   "outputs": [
    {
     "data": {
      "text/html": [
       "<div>\n",
       "<style scoped>\n",
       "    .dataframe tbody tr th:only-of-type {\n",
       "        vertical-align: middle;\n",
       "    }\n",
       "\n",
       "    .dataframe tbody tr th {\n",
       "        vertical-align: top;\n",
       "    }\n",
       "\n",
       "    .dataframe thead th {\n",
       "        text-align: right;\n",
       "    }\n",
       "</style>\n",
       "<table border=\"1\" class=\"dataframe\">\n",
       "  <thead>\n",
       "    <tr style=\"text-align: right;\">\n",
       "      <th></th>\n",
       "      <th>zip</th>\n",
       "      <th>state</th>\n",
       "      <th>population</th>\n",
       "    </tr>\n",
       "  </thead>\n",
       "  <tbody>\n",
       "    <tr>\n",
       "      <th>1</th>\n",
       "      <td>19701</td>\n",
       "      <td>Delaware</td>\n",
       "      <td>44553</td>\n",
       "    </tr>\n",
       "    <tr>\n",
       "      <th>2</th>\n",
       "      <td>19702</td>\n",
       "      <td>Delaware</td>\n",
       "      <td>56571</td>\n",
       "    </tr>\n",
       "    <tr>\n",
       "      <th>3</th>\n",
       "      <td>19703</td>\n",
       "      <td>Delaware</td>\n",
       "      <td>16376</td>\n",
       "    </tr>\n",
       "    <tr>\n",
       "      <th>4</th>\n",
       "      <td>19706</td>\n",
       "      <td>Delaware</td>\n",
       "      <td>1984</td>\n",
       "    </tr>\n",
       "    <tr>\n",
       "      <th>5</th>\n",
       "      <td>19707</td>\n",
       "      <td>Delaware</td>\n",
       "      <td>17011</td>\n",
       "    </tr>\n",
       "    <tr>\n",
       "      <th>...</th>\n",
       "      <td>...</td>\n",
       "      <td>...</td>\n",
       "      <td>...</td>\n",
       "    </tr>\n",
       "    <tr>\n",
       "      <th>1829</th>\n",
       "      <td>19607</td>\n",
       "      <td>Pennsylvania</td>\n",
       "      <td>23975</td>\n",
       "    </tr>\n",
       "    <tr>\n",
       "      <th>1830</th>\n",
       "      <td>19608</td>\n",
       "      <td>Pennsylvania</td>\n",
       "      <td>24092</td>\n",
       "    </tr>\n",
       "    <tr>\n",
       "      <th>1831</th>\n",
       "      <td>19609</td>\n",
       "      <td>Pennsylvania</td>\n",
       "      <td>10225</td>\n",
       "    </tr>\n",
       "    <tr>\n",
       "      <th>1832</th>\n",
       "      <td>19610</td>\n",
       "      <td>Pennsylvania</td>\n",
       "      <td>16401</td>\n",
       "    </tr>\n",
       "    <tr>\n",
       "      <th>1833</th>\n",
       "      <td>19611</td>\n",
       "      <td>Pennsylvania</td>\n",
       "      <td>11118</td>\n",
       "    </tr>\n",
       "  </tbody>\n",
       "</table>\n",
       "<p>4019 rows × 3 columns</p>\n",
       "</div>"
      ],
      "text/plain": [
       "        zip         state  population\n",
       "1     19701      Delaware       44553\n",
       "2     19702      Delaware       56571\n",
       "3     19703      Delaware       16376\n",
       "4     19706      Delaware        1984\n",
       "5     19707      Delaware       17011\n",
       "...     ...           ...         ...\n",
       "1829  19607  Pennsylvania       23975\n",
       "1830  19608  Pennsylvania       24092\n",
       "1831  19609  Pennsylvania       10225\n",
       "1832  19610  Pennsylvania       16401\n",
       "1833  19611  Pennsylvania       11118\n",
       "\n",
       "[4019 rows x 3 columns]"
      ]
     },
     "execution_count": 88,
     "metadata": {},
     "output_type": "execute_result"
    }
   ],
   "source": [
    "#concat all the dataframe into a comprehensive one\n",
    "allState = pd.concat([DE,MD,VA,WV,PA])\n",
    "#filter out summary rows for each state\n",
    "allState = allState[allState['name'].str.isnumeric()]\n",
    "#select useful cols\n",
    "allState = allState[['name','state','population']]\n",
    "allState.rename(columns={'name':'zip'},inplace=True)\n",
    "allState"
   ]
  },
  {
   "cell_type": "code",
   "execution_count": 89,
   "id": "a43dfb96",
   "metadata": {},
   "outputs": [],
   "source": [
    "#add DC to the df\n",
    "DC=DC[['zip','county','population']]\n",
    "DC.rename(columns={'county':'state'},inplace=True)\n",
    "allState = pd.concat([allState, DC])\n",
    "#reset the index\n",
    "allState.reset_index(drop=True, inplace=True)\n",
    "#rank by population\n",
    "allState.sort_values(by=['population'],ascending=False,inplace=True)"
   ]
  },
  {
   "cell_type": "code",
   "execution_count": 90,
   "id": "dc563efd",
   "metadata": {},
   "outputs": [
    {
     "data": {
      "text/html": [
       "<div>\n",
       "<style scoped>\n",
       "    .dataframe tbody tr th:only-of-type {\n",
       "        vertical-align: middle;\n",
       "    }\n",
       "\n",
       "    .dataframe tbody tr th {\n",
       "        vertical-align: top;\n",
       "    }\n",
       "\n",
       "    .dataframe thead th {\n",
       "        text-align: right;\n",
       "    }\n",
       "</style>\n",
       "<table border=\"1\" class=\"dataframe\">\n",
       "  <thead>\n",
       "    <tr style=\"text-align: right;\">\n",
       "      <th></th>\n",
       "      <th>population</th>\n",
       "    </tr>\n",
       "  </thead>\n",
       "  <tbody>\n",
       "    <tr>\n",
       "      <th>count</th>\n",
       "      <td>4047.000000</td>\n",
       "    </tr>\n",
       "    <tr>\n",
       "      <th>mean</th>\n",
       "      <td>7720.549790</td>\n",
       "    </tr>\n",
       "    <tr>\n",
       "      <th>std</th>\n",
       "      <td>12398.034742</td>\n",
       "    </tr>\n",
       "    <tr>\n",
       "      <th>min</th>\n",
       "      <td>0.000000</td>\n",
       "    </tr>\n",
       "    <tr>\n",
       "      <th>25%</th>\n",
       "      <td>501.000000</td>\n",
       "    </tr>\n",
       "    <tr>\n",
       "      <th>50%</th>\n",
       "      <td>2016.000000</td>\n",
       "    </tr>\n",
       "    <tr>\n",
       "      <th>75%</th>\n",
       "      <td>8891.500000</td>\n",
       "    </tr>\n",
       "    <tr>\n",
       "      <th>max</th>\n",
       "      <td>83796.000000</td>\n",
       "    </tr>\n",
       "  </tbody>\n",
       "</table>\n",
       "</div>"
      ],
      "text/plain": [
       "         population\n",
       "count   4047.000000\n",
       "mean    7720.549790\n",
       "std    12398.034742\n",
       "min        0.000000\n",
       "25%      501.000000\n",
       "50%     2016.000000\n",
       "75%     8891.500000\n",
       "max    83796.000000"
      ]
     },
     "execution_count": 90,
     "metadata": {},
     "output_type": "execute_result"
    }
   ],
   "source": [
    "#check the distribution of population\n",
    "allState.describe()"
   ]
  },
  {
   "cell_type": "code",
   "execution_count": 10,
   "id": "2c31d842",
   "metadata": {},
   "outputs": [
    {
     "name": "stdout",
     "output_type": "stream",
     "text": [
      "['District Of Columbia']\n",
      "count       28.000000\n",
      "mean     24394.178571\n",
      "std      21954.261240\n",
      "min        404.000000\n",
      "25%       3830.750000\n",
      "50%      18805.000000\n",
      "75%      36080.250000\n",
      "max      68201.000000\n",
      "Name: population, dtype: float64\n",
      "['Delaware']\n",
      "count        69.000000\n",
      "mean      28807.521739\n",
      "std      118839.688133\n",
      "min           0.000000\n",
      "25%        1984.000000\n",
      "50%       10273.000000\n",
      "75%       21437.000000\n",
      "max      993635.000000\n",
      "Name: population, dtype: float64\n",
      "['Maryland']\n",
      "count    4.780000e+02\n",
      "mean     2.578026e+04\n",
      "std      2.816971e+05\n",
      "min      0.000000e+00\n",
      "25%      8.662500e+02\n",
      "50%      4.846500e+03\n",
      "75%      2.122150e+04\n",
      "max      6.161707e+06\n",
      "Name: population, dtype: float64\n",
      "['Virginia']\n",
      "count    9.040000e+02\n",
      "mean     1.908117e+04\n",
      "std      2.868774e+05\n",
      "min      0.000000e+00\n",
      "25%      8.342500e+02\n",
      "50%      2.718500e+03\n",
      "75%      1.189400e+04\n",
      "max      8.624511e+06\n",
      "Name: population, dtype: float64\n",
      "['West Virginia']\n",
      "count    7.390000e+02\n",
      "mean     4.851930e+03\n",
      "std      6.604944e+04\n",
      "min      0.000000e+00\n",
      "25%      3.205000e+02\n",
      "50%      7.160000e+02\n",
      "75%      1.916000e+03\n",
      "max      1.792967e+06\n",
      "Name: population, dtype: float64\n",
      "['Pennsylvania']\n",
      "count    1.834000e+03\n",
      "mean     1.416489e+04\n",
      "std      3.033432e+05\n",
      "min      0.000000e+00\n",
      "25%      4.387500e+02\n",
      "50%      2.227000e+03\n",
      "75%      8.781250e+03\n",
      "max      1.298921e+07\n",
      "Name: population, dtype: float64\n"
     ]
    }
   ],
   "source": [
    "for i in [DC,DE,MD,VA,WV,PA]:\n",
    "    print(i['state'].unique())\n",
    "    print (i['population'].describe())"
   ]
  },
  {
   "cell_type": "code",
   "execution_count": 91,
   "id": "1b2e17cd",
   "metadata": {},
   "outputs": [
    {
     "data": {
      "text/plain": [
       "2699"
      ]
     },
     "execution_count": 91,
     "metadata": {},
     "output_type": "execute_result"
    }
   ],
   "source": [
    "#count the zipcode area with population more than 800\n",
    "sum(allState['population']>=800)"
   ]
  },
  {
   "cell_type": "code",
   "execution_count": 122,
   "id": "a66886bb",
   "metadata": {},
   "outputs": [],
   "source": [
    "#filter out rows with population less than 800\n",
    "allState800 = allState[allState['population']>=800]\n",
    "#reset the index\n",
    "allState800.reset_index(drop=True, inplace=True)"
   ]
  },
  {
   "cell_type": "markdown",
   "id": "5620e8e0",
   "metadata": {},
   "source": [
    "## Attempt2: using Places(New) "
   ]
  },
  {
   "cell_type": "code",
   "execution_count": 141,
   "id": "70c1281a",
   "metadata": {},
   "outputs": [],
   "source": [
    "def restaurantScarping(text):\n",
    "\n",
    "    # Your API endpoint\n",
    "    url = 'https://places.googleapis.com/v1/places:searchText'\n",
    "\n",
    "    # Data to be sent in the POST request\n",
    "    data = {\n",
    "      \"textQuery\": text\n",
    "    }\n",
    "\n",
    "    # Headers to be sent with the request\n",
    "    headers = {\n",
    "        'Content-Type': 'application/json',\n",
    "        'X-Goog-Api-Key': api_key,  # Replace 'api_key' with your actual API key\n",
    "        'X-Goog-FieldMask': 'places.displayName,places.id,places.formattedAddress,places.nationalPhoneNumber,places.userRatingCount,places.rating'\n",
    "    }\n",
    "\n",
    "    # Making the POST request\n",
    "    response = requests.post(url, json=data, headers=headers)\n",
    "    \n",
    "        # Check if the response contains no value\n",
    "    if not response.json().get('places'):\n",
    "        return None\n",
    "\n",
    "    return response.json()['places']\n",
    "    "
   ]
  },
  {
   "cell_type": "code",
   "execution_count": 85,
   "id": "86e8a955",
   "metadata": {},
   "outputs": [],
   "source": [
    "def decodeResult(json):\n",
    "    for place in json:\n",
    "        new_row = {'name':place['displayName']['text'], 'id':place['id'], \n",
    "                   'address':place['formattedAddress'], 'phoneNumber':place['nationalPhoneNumber'], \n",
    "                   'rating':place['rating'],'ratesCount': place['userRatingCount']}\n",
    "        restaurants = pd.concat([restaurants, pd.DataFrame(data=new_row,index=['0'])], ignore_index=True)"
   ]
  },
  {
   "cell_type": "code",
   "execution_count": 83,
   "id": "eb99f39a",
   "metadata": {},
   "outputs": [],
   "source": [
    "#create a df to store results\n",
    "restaurants = pd.DataFrame(columns=['name','id','address','phoneNumber','rating','ratesCount'])"
   ]
  },
  {
   "cell_type": "code",
   "execution_count": 142,
   "id": "27bee7bd",
   "metadata": {},
   "outputs": [],
   "source": [
    "for i in range(len(allState800)):\n",
    "    queryText = 'chinese restaurant or sushi restaurants in'+str(allState800['zip'][i])\n",
    "    places = restaurantScarping(queryText)\n",
    "    # Skip to the next iteration if no places are found\n",
    "    if places is None:\n",
    "        continue\n",
    "    for place in places:\n",
    "        new_row = {\n",
    "        'name': place.get('displayName', {}).get('text', None),  # Nested dictionary access\n",
    "        'id': place.get('id', None),\n",
    "        'address': place.get('formattedAddress', None),\n",
    "        'phoneNumber': place.get('nationalPhoneNumber', None),\n",
    "        'rating': place.get('rating', None),\n",
    "        'ratesCount': place.get('userRatingCount', None)}\n",
    "        restaurants = pd.concat([restaurants, pd.DataFrame(data=new_row,index=['0'])], ignore_index=True)\n",
    "    "
   ]
  },
  {
   "cell_type": "code",
   "execution_count": 146,
   "id": "74cb5818",
   "metadata": {},
   "outputs": [],
   "source": [
    "#drop the duplicated rows\n",
    "uniqueRes = restaurants.drop_duplicates(subset=['id'])"
   ]
  },
  {
   "cell_type": "code",
   "execution_count": 147,
   "id": "f6d1aaf0",
   "metadata": {},
   "outputs": [],
   "source": [
    "uniqueRes.to_excel('data/result1.xlsx')"
   ]
  },
  {
   "cell_type": "code",
   "execution_count": 90,
   "id": "651d9a5e",
   "metadata": {},
   "outputs": [],
   "source": [
    "#url='https://www.google.com/maps/search/?api=1&query=chinese+restaurant+19702'\n",
    "#response = requests.get(url)\n"
   ]
  }
 ],
 "metadata": {
  "kernelspec": {
   "display_name": "Python 3 (ipykernel)",
   "language": "python",
   "name": "python3"
  },
  "language_info": {
   "codemirror_mode": {
    "name": "ipython",
    "version": 3
   },
   "file_extension": ".py",
   "mimetype": "text/x-python",
   "name": "python",
   "nbconvert_exporter": "python",
   "pygments_lexer": "ipython3",
   "version": "3.9.12"
  }
 },
 "nbformat": 4,
 "nbformat_minor": 5
}
